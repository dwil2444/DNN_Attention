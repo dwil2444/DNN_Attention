{
  "nbformat": 4,
  "nbformat_minor": 0,
  "metadata": {
    "kernelspec": {
      "display_name": "Python 3",
      "language": "python",
      "name": "python3"
    },
    "language_info": {
      "codemirror_mode": {
        "name": "ipython",
        "version": 3
      },
      "file_extension": ".py",
      "mimetype": "text/x-python",
      "name": "python",
      "nbconvert_exporter": "python",
      "pygments_lexer": "ipython3",
      "version": "3.8.2"
    },
    "colab": {
      "name": "rise_mnist.ipynb",
      "provenance": [],
      "collapsed_sections": [],
      "toc_visible": true
    },
    "accelerator": "GPU"
  },
  "cells": [
    {
      "cell_type": "code",
      "metadata": {
        "id": "wDSbNlqZTz2X"
      },
      "source": [
        "import matplotlib.pyplot as plt\n",
        "from tqdm import tqdm\n",
        "from skimage.transform import resize\n"
      ],
      "execution_count": 1,
      "outputs": []
    },
    {
      "cell_type": "code",
      "metadata": {
        "id": "Qlaw2TKg-U0R"
      },
      "source": [
        "import numpy as np"
      ],
      "execution_count": 2,
      "outputs": []
    },
    {
      "cell_type": "code",
      "metadata": {
        "id": "ZDsZQsckTz2c"
      },
      "source": [
        "import torchvision.models as models\n",
        "import torchvision.datasets as datasets\n",
        "import torchvision.transforms as transforms\n",
        "import torch as torch\n",
        "import torch.nn as nn\n"
      ],
      "execution_count": 3,
      "outputs": []
    },
    {
      "cell_type": "code",
      "metadata": {
        "id": "ozLt-qn5Tz2c"
      },
      "source": [
        "use_cuda = torch.cuda.is_available()\n",
        "device = torch.device(\"cuda\" if use_cuda else \"cpu\")"
      ],
      "execution_count": 4,
      "outputs": []
    },
    {
      "cell_type": "markdown",
      "metadata": {
        "id": "roAkEZVWTz2d"
      },
      "source": [
        "##### Define Model"
      ]
    },
    {
      "cell_type": "code",
      "metadata": {
        "id": "16L-wkbeTz2d"
      },
      "source": [
        "\n",
        "class Net(nn.Module):\n",
        "    def __init__(self):\n",
        "        super().__init__()\n",
        "        \n",
        "        # Inputs to hidden layer linear transformation\n",
        "        self.hidden = nn.Linear(784, 1500)  # input -> first hidden layer\n",
        "        \n",
        "        self.hidden_next = nn.Linear(1500, 100) # first hidden -> second hidden layer\n",
        "        # Output layer, 10 units - one for each digit\n",
        "        self.output = nn.Linear(100, 10)  # second hidden -> output layer\n",
        "         \n",
        "        # Define sigmoid activation and softmax output \n",
        "        self.sigmoid = nn.Sigmoid()\n",
        "        self.softmax = nn.Softmax(dim=1) # apply softmax to logits\n",
        "\n",
        "        \n",
        "    def forward(self, x):\n",
        "        x = self.hidden(x)\n",
        "        x = self.hidden_next(x)\n",
        "        x = self.sigmoid(x)\n",
        "        x = self.output(x)\n",
        "        x = self.softmax(x)     \n",
        "        return x"
      ],
      "execution_count": 5,
      "outputs": []
    },
    {
      "cell_type": "code",
      "metadata": {
        "id": "aeoDbSK3Tz2d"
      },
      "source": [
        "transform=transforms.Compose([\n",
        "        transforms.ToTensor(),\n",
        "        ])"
      ],
      "execution_count": 6,
      "outputs": []
    },
    {
      "cell_type": "code",
      "metadata": {
        "id": "TQZFuilxb0gf"
      },
      "source": [
        "mnist_trainset = datasets.FashionMNIST(root='./data', train=True, download=True, transform=transform)"
      ],
      "execution_count": 7,
      "outputs": []
    },
    {
      "cell_type": "code",
      "metadata": {
        "colab": {
          "base_uri": "https://localhost:8080/"
        },
        "id": "6HksTls4gIPQ",
        "outputId": "f221592d-9e9b-45d3-dee9-7ed85fa4d2e3"
      },
      "source": [
        "model = Net()\n",
        "\n",
        "for i in range(0, 1):\n",
        "    model.eval()\n",
        "    img = mnist_trainset[i][0]\n",
        "    img = img.view(-1,img.shape[0] )\n",
        "    img = img.transpose(0, 1)\n",
        "    output = model(img)\n",
        "    print(output)\n",
        "    print(mnist_trainset[i][1])"
      ],
      "execution_count": 8,
      "outputs": [
        {
          "output_type": "stream",
          "text": [
            "tensor([[0.0742, 0.0558, 0.0626, 0.0930, 0.1004, 0.0776, 0.1106, 0.1788, 0.1056,\n",
            "         0.1414]], grad_fn=<SoftmaxBackward>)\n",
            "9\n"
          ],
          "name": "stdout"
        }
      ]
    },
    {
      "cell_type": "markdown",
      "metadata": {
        "id": "KUuBm1lNgUEj"
      },
      "source": [
        "Training Process"
      ]
    },
    {
      "cell_type": "code",
      "metadata": {
        "id": "N7XCdTegjB46"
      },
      "source": [
        "# def cross_entropy_one_hot(inputs, target):\n",
        "#     _, labels = target.max(dim=1)\n",
        "#     return nn.CrossEntropyLoss()(inputs, labels)\n",
        "\n",
        "def compute_accuracy(inputs, target):\n",
        "    # _, labels = target.max(dim=1)\n",
        "    # print(inputs)\n",
        "    return (torch.sum(target==torch.argmax(inputs, dim=1)))"
      ],
      "execution_count": 9,
      "outputs": []
    },
    {
      "cell_type": "code",
      "metadata": {
        "id": "0TETR9cjiXmt"
      },
      "source": [
        "\n",
        "from torch import optim \n",
        "# helper function to train a model\n",
        "def train_model():\n",
        "    criterion = nn.CrossEntropyLoss()\n",
        "    model = Net()\n",
        "    # model.apply(weights_init_uniform) # change weight initialization herer\n",
        "    model = model.to(device)\n",
        "    bs = 20 # batch size\n",
        "    trainloader = torch.utils.data.DataLoader(mnist_trainset, batch_size=bs, shuffle=False,)\n",
        "    #define loss function\n",
        "    #define learning rate\n",
        "    learning_rate = 0.001 # change learning rate here\n",
        "    #define number of epochs\n",
        "    epochs = 4\n",
        "    #initialize optimizer\n",
        "    optimizer = optim.Adam(model.parameters(), lr=learning_rate)\n",
        "    #run training and print out the loss to make sure that we are actually fitting to the training set\n",
        "    print('Training the model. Make sure that loss decreases after each epoch.\\n')\n",
        "    prev_loss = 0\n",
        "    cumulative_acc = 0\n",
        "    total_train = 0\n",
        "    for e in range(epochs):\n",
        "        model.train()\n",
        "        cumulative_acc = 0\n",
        "        total_train = 0\n",
        "        if(e != 0):\n",
        "            model.load_state_dict(torch.load('nn_params.pth'))\n",
        "        running_loss = 0\n",
        "        for images, labels in trainloader:\n",
        "            total_train += bs\n",
        "            images = images.to(device)\n",
        "            labels = labels.to(device)\n",
        "            images = images.view(images.shape[0], -1)  \n",
        "            log_ps = model(images)\n",
        "            optimizer.zero_grad()\n",
        "            loss = criterion(log_ps, labels)\n",
        "            loss.backward()\n",
        "            optimizer.step()\n",
        "            cumulative_acc += compute_accuracy(log_ps, labels)\n",
        "            running_loss += loss.item()\n",
        "        if(e == 0):\n",
        "            prev_loss = running_loss\n",
        "        if(running_loss <= prev_loss):\n",
        "            torch.save(model.state_dict(), 'nn_params.pth')\n",
        "            prev_loss = running_loss\n",
        "        print(f\"Accuracy: {cumulative_acc/total_train}\")\n",
        "        print(f\"Training loss: {running_loss}\")"
      ],
      "execution_count": 10,
      "outputs": []
    },
    {
      "cell_type": "code",
      "metadata": {
        "colab": {
          "base_uri": "https://localhost:8080/"
        },
        "id": "RaE1Cu60ixDY",
        "outputId": "3cb359b0-4390-4fde-d5cd-6574e312b134"
      },
      "source": [
        "train_model()"
      ],
      "execution_count": 11,
      "outputs": [
        {
          "output_type": "stream",
          "text": [
            "Training the model. Make sure that loss decreases after each epoch.\n",
            "\n",
            "Accuracy: 0.7805833220481873\n",
            "Training loss: 5087.933377623558\n",
            "Accuracy: 0.8259166479110718\n",
            "Training loss: 4925.689659118652\n",
            "Accuracy: 0.8296000361442566\n",
            "Training loss: 4910.027336597443\n",
            "Accuracy: 0.831250011920929\n",
            "Training loss: 4906.411588549614\n"
          ],
          "name": "stdout"
        }
      ]
    },
    {
      "cell_type": "code",
      "metadata": {
        "id": "ErgKcXxekL_o"
      },
      "source": [
        "mnist_valset = datasets.FashionMNIST(root='./data', train=False, download=True, transform=transform)\n",
        "val_loader = torch.utils.data.DataLoader(mnist_valset,\n",
        "                                          batch_size=1,\n",
        "                                          shuffle=False,)\n"
      ],
      "execution_count": 12,
      "outputs": []
    },
    {
      "cell_type": "code",
      "metadata": {
        "id": "RUL0QuaWTz2e"
      },
      "source": [
        "num_correct = 0\n",
        "count = 0\n",
        "model.load_state_dict(torch.load('nn_params.pth'))\n",
        "for img, label in val_loader:\n",
        "    count += 1\n",
        "    model.eval()\n",
        "    model = model.to(device)\n",
        "    img = img.to(device)\n",
        "    img = img.view(img.shape[0], -1)\n",
        "    output = model(img)\n",
        "    pred = torch.argmax(output, dim=1)\n",
        "    if pred.item() == label.item():\n",
        "        num_correct += 1\n",
        "acc = num_correct/count"
      ],
      "execution_count": 13,
      "outputs": []
    },
    {
      "cell_type": "code",
      "metadata": {
        "id": "9tKZl8IOTz2f"
      },
      "source": [
        "def fashionLabelToClass(label):\n",
        "  labeller = {\n",
        "      0: \"Top\",  \n",
        "      1: \"Trouser\",  \n",
        "      2: \"Pullover\",  \n",
        "      3: \"Dress\",  \n",
        "      4: \"Coat\",  \n",
        "      5: \"Sandal\",  \n",
        "      6: \"Shirt\",  \n",
        "      7: \"Sneaker\",  \n",
        "      8: \"Bag\",  \n",
        "      9: \"Ankle Boot\"\n",
        "  }\n",
        "  return labeller.get(label, \"Invalid Class\")"
      ],
      "execution_count": 14,
      "outputs": []
    },
    {
      "cell_type": "code",
      "metadata": {
        "colab": {
          "base_uri": "https://localhost:8080/",
          "height": 282
        },
        "id": "NF0cnCMWTz2e",
        "outputId": "ab1c8326-7efd-49e3-e976-9431eefc4d8f"
      },
      "source": [
        "img = mnist_valset[350][0]\n",
        "label = mnist_valset[350][1]\n",
        "img_disp = img.reshape([28, 28])\n",
        "model.eval()\n",
        "model = model.to(device)\n",
        "img = img.to(device)\n",
        "img = img.view(img.shape[0], -1)\n",
        "output = model(img)\n",
        "pred = torch.argmax(output, dim=1)\n",
        "plt.imshow(img_disp)\n",
        "print(\"Prediction for this image is %s\" % fashionLabelToClass(pred.item()))"
      ],
      "execution_count": 15,
      "outputs": [
        {
          "output_type": "stream",
          "text": [
            "Prediction for this image is Trouser\n"
          ],
          "name": "stdout"
        },
        {
          "output_type": "display_data",
          "data": {
            "image/png": "[encoded data removed]",
            "text/plain": [
              "<Figure size 432x288 with 1 Axes>"
            ]
          },
          "metadata": {
            "tags": [],
            "needs_background": "light"
          }
        }
      ]
    },
    {
      "cell_type": "code",
      "metadata": {
        "colab": {
          "base_uri": "https://localhost:8080/"
        },
        "id": "U8Oz7osLFFWn",
        "outputId": "8239b488-9785-4056-b96e-cb0f4b636a66"
      },
      "source": [
        "img_classifier = model\n",
        "img_classifier.to(device)"
      ],
      "execution_count": 16,
      "outputs": [
        {
          "output_type": "execute_result",
          "data": {
            "text/plain": [
              "Net(\n",
              "  (hidden): Linear(in_features=784, out_features=1500, bias=True)\n",
              "  (hidden_next): Linear(in_features=1500, out_features=100, bias=True)\n",
              "  (output): Linear(in_features=100, out_features=10, bias=True)\n",
              "  (sigmoid): Sigmoid()\n",
              "  (softmax): Softmax(dim=1)\n",
              ")"
            ]
          },
          "metadata": {
            "tags": []
          },
          "execution_count": 16
        }
      ]
    },
    {
      "cell_type": "markdown",
      "metadata": {
        "id": "oU1zroCM-D8P"
      },
      "source": [
        "####**RISE**"
      ]
    },
    {
      "cell_type": "code",
      "metadata": {
        "id": "ZIA72MP1EUfn"
      },
      "source": [
        "from keras.preprocessing import image\n",
        "from keras.applications.resnet50 import ResNet50, preprocess_input, decode_predictions"
      ],
      "execution_count": 17,
      "outputs": []
    },
    {
      "cell_type": "code",
      "metadata": {
        "id": "Vdx1CIwcApeZ"
      },
      "source": [
        "\n",
        "\n",
        "def generate_masks(N, s, p1):\n",
        "    cell_size = np.ceil(np.array((28 ,28)) / s)\n",
        "    up_size = (s + 1) * cell_size\n",
        "\n",
        "    grid = np.random.rand(N, s, s) < p1\n",
        "    grid = grid.astype('float32')\n",
        "\n",
        "    masks = np.empty((N,*(28, 28)))\n",
        "\n",
        "    for i in tqdm(range(N), desc='Generating masks'):\n",
        "        # Random shifts\n",
        "        x = np.random.randint(0, cell_size[0])\n",
        "        y = np.random.randint(0, cell_size[1])\n",
        "        # Linear upsampling and cropping\n",
        "        masks[i, :, :] = resize(grid[i], up_size, order=1, mode='reflect',\n",
        "                                anti_aliasing=False)[x:x + 28, y:y + 28]\n",
        "    masks = masks.reshape(-1, *(28, 28), 1)\n",
        "    return masks"
      ],
      "execution_count": 18,
      "outputs": []
    },
    {
      "cell_type": "code",
      "metadata": {
        "id": "fyHGmZNiArKR"
      },
      "source": [
        "batch_size = 100\n",
        "\n",
        "def explain(model, inp, masks):\n",
        "    preds = []\n",
        "    # Make sure multiplication is being done for correct axes\n",
        "    masked = inp * masks\n",
        "    for i in tqdm(range(0, N, batch_size), desc='Explaining'):\n",
        "        masked = torch.tensor(masked).float()\n",
        "        masked = masked.to(device)\n",
        "        preds.append(img_classifier(masked[i:min(i+batch_size, N)]).cpu().detach().numpy())\n",
        "    preds = np.concatenate(preds)\n",
        "    sal = preds.T.dot(masks.reshape(N, -1)).reshape(-1, *(28, 28))\n",
        "    sal = sal / N / p1\n",
        "    return sal"
      ],
      "execution_count": 19,
      "outputs": []
    },
    {
      "cell_type": "code",
      "metadata": {
        "id": "ivTf6uKvAtJi"
      },
      "source": [
        "def class_name(idx):\n",
        "    return decode_predictions(np.eye(1, 1000, idx))[0][0][1]"
      ],
      "execution_count": 20,
      "outputs": []
    },
    {
      "cell_type": "code",
      "metadata": {
        "colab": {
          "base_uri": "https://localhost:8080/"
        },
        "id": "lxwRxEsoAuxN",
        "outputId": "bcf32b15-eeda-4bbe-b2ca-1891ffe60f9f"
      },
      "source": [
        "N = 500\n",
        "s = 8\n",
        "p1 = 0.5\n",
        "masks = generate_masks(500, 8, 0.5)"
      ],
      "execution_count": 21,
      "outputs": [
        {
          "output_type": "stream",
          "text": [
            "Generating masks: 100%|██████████| 500/500 [00:00<00:00, 868.19it/s]\n"
          ],
          "name": "stderr"
        }
      ]
    },
    {
      "cell_type": "code",
      "metadata": {
        "colab": {
          "base_uri": "https://localhost:8080/",
          "height": 299
        },
        "id": "wet4GEt_EFui",
        "outputId": "503966c5-2051-4906-c503-c3c92af4bf85"
      },
      "source": [
        "img = mnist_valset[361][0]\n",
        "label = mnist_valset[361][1]\n",
        "print(label)\n",
        "img_disp = img.reshape([28, 28])\n",
        "plt.imshow(img_disp)"
      ],
      "execution_count": 28,
      "outputs": [
        {
          "output_type": "stream",
          "text": [
            "2\n"
          ],
          "name": "stdout"
        },
        {
          "output_type": "execute_result",
          "data": {
            "text/plain": [
              "<matplotlib.image.AxesImage at 0x7fa61f9a3cf8>"
            ]
          },
          "metadata": {
            "tags": []
          },
          "execution_count": 28
        },
        {
          "output_type": "display_data",
          "data": {
            "image/png": "[encoded data removed]",
            "text/plain": [
              "<Figure size 432x288 with 1 Axes>"
            ]
          },
          "metadata": {
            "tags": [],
            "needs_background": "light"
          }
        }
      ]
    },
    {
      "cell_type": "code",
      "metadata": {
        "id": "0e7G9ba0cDkx"
      },
      "source": [
        "x = img.view(img.shape[0], -1)\n",
        "x = x.cpu().detach().numpy()\n",
        "# x = x.to(device)\n",
        "img = img_disp\n",
        "img = img.to(device)"
      ],
      "execution_count": 29,
      "outputs": []
    },
    {
      "cell_type": "code",
      "metadata": {
        "colab": {
          "base_uri": "https://localhost:8080/"
        },
        "id": "orCmb_8BAwuu",
        "outputId": "1fb56d09-ad97-4630-ec78-6addcb3a5c3a"
      },
      "source": [
        "sal = explain(img_classifier, x, masks)"
      ],
      "execution_count": 30,
      "outputs": [
        {
          "output_type": "stream",
          "text": [
            "Explaining:  20%|██        | 1/5 [00:02<00:09,  2.46s/it]/usr/local/lib/python3.6/dist-packages/ipykernel_launcher.py:8: UserWarning: To copy construct from a tensor, it is recommended to use sourceTensor.clone().detach() or sourceTensor.clone().detach().requires_grad_(True), rather than torch.tensor(sourceTensor).\n",
            "  \n",
            "Explaining: 100%|██████████| 5/5 [00:02<00:00,  1.82it/s]\n"
          ],
          "name": "stderr"
        }
      ]
    },
    {
      "cell_type": "code",
      "metadata": {
        "colab": {
          "base_uri": "https://localhost:8080/",
          "height": 265
        },
        "id": "0_Y1rujxkO-N",
        "outputId": "836911de-5eae-4412-f989-1c26d1c0fb56"
      },
      "source": [
        "class_idx = 2\n",
        "plt.title('Explanation for `{}`'.format(fashionLabelToClass(mnist_valset[361][1])))\n",
        "plt.axis('off')\n",
        "plt.imshow(img_disp)\n",
        "plt.imshow(sal[class_idx], cmap='jet', alpha=0.5)\n",
        "# plt.colorbar()\n",
        "plt.show()"
      ],
      "execution_count": 33,
      "outputs": [
        {
          "output_type": "display_data",
          "data": {
            "image/png": "[encoded data removed]",
            "text/plain": [
              "<Figure size 432x288 with 1 Axes>"
            ]
          },
          "metadata": {
            "tags": [],
            "needs_background": "light"
          }
        }
      ]
    },
    {
      "cell_type": "code",
      "metadata": {
        "id": "srBZYTD9moTH"
      },
      "source": [
        ""
      ],
      "execution_count": null,
      "outputs": []
    }
  ]
}